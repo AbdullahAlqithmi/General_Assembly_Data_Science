{
 "cells": [
  {
   "cell_type": "code",
   "execution_count": 618,
   "metadata": {},
   "outputs": [],
   "source": [
    "### READ THE README.md FILE\n",
    "# Load Pandas into Python\n",
    "import pandas as pd\n",
    "from matplotlib import pyplot as plt\n",
    "import seaborn as sns\n",
    "import scipy.stats as stats\n",
    "%matplotlib inline\n",
    "\n",
    "plt.style.use('fivethirtyeight')\n"
   ]
  },
  {
   "cell_type": "code",
   "execution_count": 619,
   "metadata": {},
   "outputs": [],
   "source": [
    "#Create an iPython notebook and load the csv into pandas.\n",
    "titanic = pd.read_csv('train.csv')"
   ]
  },
  {
   "cell_type": "code",
   "execution_count": 620,
   "metadata": {},
   "outputs": [
    {
     "data": {
      "image/png": "[encoded data removed]",
      "text/plain": [
       "<Figure size 432x288 with 1 Axes>"
      ]
     },
     "metadata": {},
     "output_type": "display_data"
    }
   ],
   "source": [
    "#Create an iPython notebook and load the csv into pandas.\n",
    "\n",
    "titanic.isnull().sum().plot(kind = 'bar');\n"
   ]
  },
  {
   "cell_type": "code",
   "execution_count": 621,
   "metadata": {},
   "outputs": [
    {
     "data": {
      "text/plain": [
       "687"
      ]
     },
     "execution_count": 621,
     "metadata": {},
     "output_type": "execute_result"
    }
   ],
   "source": [
    "#Which column has the most `NaN` values? How many cells in that column are empty?\n",
    "\n",
    "titanic['Cabin'].isnull().sum()"
   ]
  },
  {
   "cell_type": "code",
   "execution_count": 622,
   "metadata": {},
   "outputs": [
    {
     "data": {
      "text/html": [
       "<div>\n",
       "<style scoped>\n",
       "    .dataframe tbody tr th:only-of-type {\n",
       "        vertical-align: middle;\n",
       "    }\n",
       "\n",
       "    .dataframe tbody tr th {\n",
       "        vertical-align: top;\n",
       "    }\n",
       "\n",
       "    .dataframe thead th {\n",
       "        text-align: right;\n",
       "    }\n",
       "</style>\n",
       "<table border=\"1\" class=\"dataframe\">\n",
       "  <thead>\n",
       "    <tr style=\"text-align: right;\">\n",
       "      <th></th>\n",
       "      <th>PassengerId</th>\n",
       "      <th>Survived</th>\n",
       "      <th>Pclass</th>\n",
       "      <th>Name</th>\n",
       "      <th>Sex</th>\n",
       "      <th>Age</th>\n",
       "      <th>SibSp</th>\n",
       "      <th>Parch</th>\n",
       "      <th>Ticket</th>\n",
       "      <th>Fare</th>\n",
       "      <th>Cabin</th>\n",
       "      <th>Embarked</th>\n",
       "    </tr>\n",
       "  </thead>\n",
       "  <tbody>\n",
       "    <tr>\n",
       "      <th>61</th>\n",
       "      <td>62</td>\n",
       "      <td>1</td>\n",
       "      <td>1</td>\n",
       "      <td>Icard, Miss. Amelie</td>\n",
       "      <td>female</td>\n",
       "      <td>38.0</td>\n",
       "      <td>0</td>\n",
       "      <td>0</td>\n",
       "      <td>113572</td>\n",
       "      <td>80.0</td>\n",
       "      <td>B28</td>\n",
       "      <td>NaN</td>\n",
       "    </tr>\n",
       "    <tr>\n",
       "      <th>829</th>\n",
       "      <td>830</td>\n",
       "      <td>1</td>\n",
       "      <td>1</td>\n",
       "      <td>Stone, Mrs. George Nelson (Martha Evelyn)</td>\n",
       "      <td>female</td>\n",
       "      <td>62.0</td>\n",
       "      <td>0</td>\n",
       "      <td>0</td>\n",
       "      <td>113572</td>\n",
       "      <td>80.0</td>\n",
       "      <td>B28</td>\n",
       "      <td>NaN</td>\n",
       "    </tr>\n",
       "  </tbody>\n",
       "</table>\n",
       "</div>"
      ],
      "text/plain": [
       "     PassengerId  Survived  Pclass                                       Name  \\\n",
       "61            62         1       1                        Icard, Miss. Amelie   \n",
       "829          830         1       1  Stone, Mrs. George Nelson (Martha Evelyn)   \n",
       "\n",
       "        Sex   Age  SibSp  Parch  Ticket  Fare Cabin Embarked  \n",
       "61   female  38.0      0      0  113572  80.0   B28      NaN  \n",
       "829  female  62.0      0      0  113572  80.0   B28      NaN  "
      ]
     },
     "execution_count": 622,
     "metadata": {},
     "output_type": "execute_result"
    }
   ],
   "source": [
    "#Delete all rows where `Embarked` is empty\n",
    "\n",
    "titanic[titanic.Embarked.isnull()]"
   ]
  },
  {
   "cell_type": "code",
   "execution_count": 623,
   "metadata": {},
   "outputs": [
    {
     "data": {
      "text/html": [
       "<div>\n",
       "<style scoped>\n",
       "    .dataframe tbody tr th:only-of-type {\n",
       "        vertical-align: middle;\n",
       "    }\n",
       "\n",
       "    .dataframe tbody tr th {\n",
       "        vertical-align: top;\n",
       "    }\n",
       "\n",
       "    .dataframe thead th {\n",
       "        text-align: right;\n",
       "    }\n",
       "</style>\n",
       "<table border=\"1\" class=\"dataframe\">\n",
       "  <thead>\n",
       "    <tr style=\"text-align: right;\">\n",
       "      <th></th>\n",
       "      <th>PassengerId</th>\n",
       "      <th>Survived</th>\n",
       "      <th>Pclass</th>\n",
       "      <th>Name</th>\n",
       "      <th>Sex</th>\n",
       "      <th>Age</th>\n",
       "      <th>SibSp</th>\n",
       "      <th>Parch</th>\n",
       "      <th>Ticket</th>\n",
       "      <th>Fare</th>\n",
       "      <th>Cabin</th>\n",
       "      <th>Embarked</th>\n",
       "    </tr>\n",
       "  </thead>\n",
       "  <tbody>\n",
       "  </tbody>\n",
       "</table>\n",
       "</div>"
      ],
      "text/plain": [
       "Empty DataFrame\n",
       "Columns: [PassengerId, Survived, Pclass, Name, Sex, Age, SibSp, Parch, Ticket, Fare, Cabin, Embarked]\n",
       "Index: []"
      ]
     },
     "execution_count": 623,
     "metadata": {},
     "output_type": "execute_result"
    }
   ],
   "source": [
    "titanic.dropna(subset=['Embarked'], inplace=True, axis=0)\n",
    "titanic[titanic.Embarked.isnull()]"
   ]
  },
  {
   "cell_type": "code",
   "execution_count": 624,
   "metadata": {},
   "outputs": [],
   "source": [
    "#Fill all empty cabins with **¯\\\\_(ツ)_/¯**\n",
    "titanic['Cabin'].fillna(\"¯\\\\_(ツ)_/¯\", inplace=True)\n"
   ]
  },
  {
   "cell_type": "code",
   "execution_count": 625,
   "metadata": {},
   "outputs": [
    {
     "data": {
      "text/html": [
       "<div>\n",
       "<style scoped>\n",
       "    .dataframe tbody tr th:only-of-type {\n",
       "        vertical-align: middle;\n",
       "    }\n",
       "\n",
       "    .dataframe tbody tr th {\n",
       "        vertical-align: top;\n",
       "    }\n",
       "\n",
       "    .dataframe thead th {\n",
       "        text-align: right;\n",
       "    }\n",
       "</style>\n",
       "<table border=\"1\" class=\"dataframe\">\n",
       "  <thead>\n",
       "    <tr style=\"text-align: right;\">\n",
       "      <th></th>\n",
       "      <th>PassengerId</th>\n",
       "      <th>Survived</th>\n",
       "      <th>Pclass</th>\n",
       "      <th>Name</th>\n",
       "      <th>Sex</th>\n",
       "      <th>Age</th>\n",
       "      <th>SibSp</th>\n",
       "      <th>Parch</th>\n",
       "      <th>Ticket</th>\n",
       "      <th>Fare</th>\n",
       "      <th>Cabin</th>\n",
       "      <th>Embarked</th>\n",
       "      <th>FamilyCount</th>\n",
       "    </tr>\n",
       "  </thead>\n",
       "  <tbody>\n",
       "    <tr>\n",
       "      <th>0</th>\n",
       "      <td>1</td>\n",
       "      <td>0</td>\n",
       "      <td>3</td>\n",
       "      <td>Braund, Mr. Owen Harris</td>\n",
       "      <td>male</td>\n",
       "      <td>22.0</td>\n",
       "      <td>1</td>\n",
       "      <td>0</td>\n",
       "      <td>A/5 21171</td>\n",
       "      <td>7.2500</td>\n",
       "      <td>¯\\_(ツ)_/¯</td>\n",
       "      <td>S</td>\n",
       "      <td>1</td>\n",
       "    </tr>\n",
       "    <tr>\n",
       "      <th>1</th>\n",
       "      <td>2</td>\n",
       "      <td>1</td>\n",
       "      <td>1</td>\n",
       "      <td>Cumings, Mrs. John Bradley (Florence Briggs Th...</td>\n",
       "      <td>female</td>\n",
       "      <td>38.0</td>\n",
       "      <td>1</td>\n",
       "      <td>0</td>\n",
       "      <td>PC 17599</td>\n",
       "      <td>71.2833</td>\n",
       "      <td>C85</td>\n",
       "      <td>C</td>\n",
       "      <td>1</td>\n",
       "    </tr>\n",
       "    <tr>\n",
       "      <th>2</th>\n",
       "      <td>3</td>\n",
       "      <td>1</td>\n",
       "      <td>3</td>\n",
       "      <td>Heikkinen, Miss. Laina</td>\n",
       "      <td>female</td>\n",
       "      <td>26.0</td>\n",
       "      <td>0</td>\n",
       "      <td>0</td>\n",
       "      <td>STON/O2. 3101282</td>\n",
       "      <td>7.9250</td>\n",
       "      <td>¯\\_(ツ)_/¯</td>\n",
       "      <td>S</td>\n",
       "      <td>0</td>\n",
       "    </tr>\n",
       "    <tr>\n",
       "      <th>3</th>\n",
       "      <td>4</td>\n",
       "      <td>1</td>\n",
       "      <td>1</td>\n",
       "      <td>Futrelle, Mrs. Jacques Heath (Lily May Peel)</td>\n",
       "      <td>female</td>\n",
       "      <td>35.0</td>\n",
       "      <td>1</td>\n",
       "      <td>0</td>\n",
       "      <td>113803</td>\n",
       "      <td>53.1000</td>\n",
       "      <td>C123</td>\n",
       "      <td>S</td>\n",
       "      <td>1</td>\n",
       "    </tr>\n",
       "    <tr>\n",
       "      <th>4</th>\n",
       "      <td>5</td>\n",
       "      <td>0</td>\n",
       "      <td>3</td>\n",
       "      <td>Allen, Mr. William Henry</td>\n",
       "      <td>male</td>\n",
       "      <td>35.0</td>\n",
       "      <td>0</td>\n",
       "      <td>0</td>\n",
       "      <td>373450</td>\n",
       "      <td>8.0500</td>\n",
       "      <td>¯\\_(ツ)_/¯</td>\n",
       "      <td>S</td>\n",
       "      <td>0</td>\n",
       "    </tr>\n",
       "  </tbody>\n",
       "</table>\n",
       "</div>"
      ],
      "text/plain": [
       "   PassengerId  Survived  Pclass  \\\n",
       "0            1         0       3   \n",
       "1            2         1       1   \n",
       "2            3         1       3   \n",
       "3            4         1       1   \n",
       "4            5         0       3   \n",
       "\n",
       "                                                Name     Sex   Age  SibSp  \\\n",
       "0                            Braund, Mr. Owen Harris    male  22.0      1   \n",
       "1  Cumings, Mrs. John Bradley (Florence Briggs Th...  female  38.0      1   \n",
       "2                             Heikkinen, Miss. Laina  female  26.0      0   \n",
       "3       Futrelle, Mrs. Jacques Heath (Lily May Peel)  female  35.0      1   \n",
       "4                           Allen, Mr. William Henry    male  35.0      0   \n",
       "\n",
       "   Parch            Ticket     Fare      Cabin Embarked  FamilyCount  \n",
       "0      0         A/5 21171   7.2500  ¯\\_(ツ)_/¯        S            1  \n",
       "1      0          PC 17599  71.2833        C85        C            1  \n",
       "2      0  STON/O2. 3101282   7.9250  ¯\\_(ツ)_/¯        S            0  \n",
       "3      0            113803  53.1000       C123        S            1  \n",
       "4      0            373450   8.0500  ¯\\_(ツ)_/¯        S            0  "
      ]
     },
     "execution_count": 625,
     "metadata": {},
     "output_type": "execute_result"
    }
   ],
   "source": [
    "#There are two columns that pertain to how many family members are on the boat for a given person.\n",
    "#Create a new column called `FamilyCount` which will be the sum of those two columns.\n",
    "\n",
    "titanic['FamilyCount'] = titanic['SibSp'] + titanic['Parch']\n",
    "titanic.head()"
   ]
  },
  {
   "cell_type": "code",
   "execution_count": 626,
   "metadata": {},
   "outputs": [
    {
     "data": {
      "text/html": [
       "<div>\n",
       "<style scoped>\n",
       "    .dataframe tbody tr th:only-of-type {\n",
       "        vertical-align: middle;\n",
       "    }\n",
       "\n",
       "    .dataframe tbody tr th {\n",
       "        vertical-align: top;\n",
       "    }\n",
       "\n",
       "    .dataframe thead th {\n",
       "        text-align: right;\n",
       "    }\n",
       "</style>\n",
       "<table border=\"1\" class=\"dataframe\">\n",
       "  <thead>\n",
       "    <tr style=\"text-align: right;\">\n",
       "      <th></th>\n",
       "      <th>PassengerId</th>\n",
       "      <th>Survived</th>\n",
       "      <th>Pclass</th>\n",
       "      <th>Name</th>\n",
       "      <th>Sex</th>\n",
       "      <th>Age</th>\n",
       "      <th>SibSp</th>\n",
       "      <th>Parch</th>\n",
       "      <th>Ticket</th>\n",
       "      <th>Fare</th>\n",
       "      <th>Cabin</th>\n",
       "      <th>Embarked</th>\n",
       "      <th>FamilyCount</th>\n",
       "      <th>IsReverend</th>\n",
       "    </tr>\n",
       "  </thead>\n",
       "  <tbody>\n",
       "    <tr>\n",
       "      <th>0</th>\n",
       "      <td>1</td>\n",
       "      <td>0</td>\n",
       "      <td>3</td>\n",
       "      <td>Braund, Mr. Owen Harris</td>\n",
       "      <td>male</td>\n",
       "      <td>22.0</td>\n",
       "      <td>1</td>\n",
       "      <td>0</td>\n",
       "      <td>A/5 21171</td>\n",
       "      <td>7.2500</td>\n",
       "      <td>¯\\_(ツ)_/¯</td>\n",
       "      <td>S</td>\n",
       "      <td>1</td>\n",
       "      <td>0</td>\n",
       "    </tr>\n",
       "    <tr>\n",
       "      <th>1</th>\n",
       "      <td>2</td>\n",
       "      <td>1</td>\n",
       "      <td>1</td>\n",
       "      <td>Cumings, Mrs. John Bradley (Florence Briggs Th...</td>\n",
       "      <td>female</td>\n",
       "      <td>38.0</td>\n",
       "      <td>1</td>\n",
       "      <td>0</td>\n",
       "      <td>PC 17599</td>\n",
       "      <td>71.2833</td>\n",
       "      <td>C85</td>\n",
       "      <td>C</td>\n",
       "      <td>1</td>\n",
       "      <td>0</td>\n",
       "    </tr>\n",
       "    <tr>\n",
       "      <th>2</th>\n",
       "      <td>3</td>\n",
       "      <td>1</td>\n",
       "      <td>3</td>\n",
       "      <td>Heikkinen, Miss. Laina</td>\n",
       "      <td>female</td>\n",
       "      <td>26.0</td>\n",
       "      <td>0</td>\n",
       "      <td>0</td>\n",
       "      <td>STON/O2. 3101282</td>\n",
       "      <td>7.9250</td>\n",
       "      <td>¯\\_(ツ)_/¯</td>\n",
       "      <td>S</td>\n",
       "      <td>0</td>\n",
       "      <td>0</td>\n",
       "    </tr>\n",
       "    <tr>\n",
       "      <th>3</th>\n",
       "      <td>4</td>\n",
       "      <td>1</td>\n",
       "      <td>1</td>\n",
       "      <td>Futrelle, Mrs. Jacques Heath (Lily May Peel)</td>\n",
       "      <td>female</td>\n",
       "      <td>35.0</td>\n",
       "      <td>1</td>\n",
       "      <td>0</td>\n",
       "      <td>113803</td>\n",
       "      <td>53.1000</td>\n",
       "      <td>C123</td>\n",
       "      <td>S</td>\n",
       "      <td>1</td>\n",
       "      <td>0</td>\n",
       "    </tr>\n",
       "    <tr>\n",
       "      <th>4</th>\n",
       "      <td>5</td>\n",
       "      <td>0</td>\n",
       "      <td>3</td>\n",
       "      <td>Allen, Mr. William Henry</td>\n",
       "      <td>male</td>\n",
       "      <td>35.0</td>\n",
       "      <td>0</td>\n",
       "      <td>0</td>\n",
       "      <td>373450</td>\n",
       "      <td>8.0500</td>\n",
       "      <td>¯\\_(ツ)_/¯</td>\n",
       "      <td>S</td>\n",
       "      <td>0</td>\n",
       "      <td>0</td>\n",
       "    </tr>\n",
       "  </tbody>\n",
       "</table>\n",
       "</div>"
      ],
      "text/plain": [
       "   PassengerId  Survived  Pclass  \\\n",
       "0            1         0       3   \n",
       "1            2         1       1   \n",
       "2            3         1       3   \n",
       "3            4         1       1   \n",
       "4            5         0       3   \n",
       "\n",
       "                                                Name     Sex   Age  SibSp  \\\n",
       "0                            Braund, Mr. Owen Harris    male  22.0      1   \n",
       "1  Cumings, Mrs. John Bradley (Florence Briggs Th...  female  38.0      1   \n",
       "2                             Heikkinen, Miss. Laina  female  26.0      0   \n",
       "3       Futrelle, Mrs. Jacques Heath (Lily May Peel)  female  35.0      1   \n",
       "4                           Allen, Mr. William Henry    male  35.0      0   \n",
       "\n",
       "   Parch            Ticket     Fare      Cabin Embarked  FamilyCount  \\\n",
       "0      0         A/5 21171   7.2500  ¯\\_(ツ)_/¯        S            1   \n",
       "1      0          PC 17599  71.2833        C85        C            1   \n",
       "2      0  STON/O2. 3101282   7.9250  ¯\\_(ツ)_/¯        S            0   \n",
       "3      0            113803  53.1000       C123        S            1   \n",
       "4      0            373450   8.0500  ¯\\_(ツ)_/¯        S            0   \n",
       "\n",
       "   IsReverend  \n",
       "0           0  \n",
       "1           0  \n",
       "2           0  \n",
       "3           0  \n",
       "4           0  "
      ]
     },
     "execution_count": 626,
     "metadata": {},
     "output_type": "execute_result"
    }
   ],
   "source": [
    "#Reverends have a special title in their name.\n",
    "#Create a column called `IsReverend`: 1 if they're a preacher, 0 if they're not.\n",
    "\n",
    "titanic['IsReverend']= titanic['Name'].str.contains('Rev.', na='1')\n",
    "titanic['IsReverend']=titanic['IsReverend'].astype(int)\n",
    "titanic.head()"
   ]
  },
  {
   "cell_type": "code",
   "execution_count": 627,
   "metadata": {},
   "outputs": [
    {
     "data": {
      "text/html": [
       "<div>\n",
       "<style scoped>\n",
       "    .dataframe tbody tr th:only-of-type {\n",
       "        vertical-align: middle;\n",
       "    }\n",
       "\n",
       "    .dataframe tbody tr th {\n",
       "        vertical-align: top;\n",
       "    }\n",
       "\n",
       "    .dataframe thead th {\n",
       "        text-align: right;\n",
       "    }\n",
       "</style>\n",
       "<table border=\"1\" class=\"dataframe\">\n",
       "  <thead>\n",
       "    <tr style=\"text-align: right;\">\n",
       "      <th></th>\n",
       "      <th>PassengerId</th>\n",
       "      <th>Survived</th>\n",
       "      <th>Pclass</th>\n",
       "      <th>Name</th>\n",
       "      <th>Sex</th>\n",
       "      <th>Age</th>\n",
       "      <th>SibSp</th>\n",
       "      <th>Parch</th>\n",
       "      <th>Ticket</th>\n",
       "      <th>Fare</th>\n",
       "      <th>Cabin</th>\n",
       "      <th>FamilyCount</th>\n",
       "      <th>IsReverend</th>\n",
       "      <th>Embarked_C</th>\n",
       "      <th>Embarked_Q</th>\n",
       "      <th>Embarked_S</th>\n",
       "    </tr>\n",
       "  </thead>\n",
       "  <tbody>\n",
       "    <tr>\n",
       "      <th>0</th>\n",
       "      <td>1</td>\n",
       "      <td>0</td>\n",
       "      <td>3</td>\n",
       "      <td>Braund, Mr. Owen Harris</td>\n",
       "      <td>male</td>\n",
       "      <td>22.0</td>\n",
       "      <td>1</td>\n",
       "      <td>0</td>\n",
       "      <td>A/5 21171</td>\n",
       "      <td>7.2500</td>\n",
       "      <td>¯\\_(ツ)_/¯</td>\n",
       "      <td>1</td>\n",
       "      <td>0</td>\n",
       "      <td>0</td>\n",
       "      <td>0</td>\n",
       "      <td>1</td>\n",
       "    </tr>\n",
       "    <tr>\n",
       "      <th>1</th>\n",
       "      <td>2</td>\n",
       "      <td>1</td>\n",
       "      <td>1</td>\n",
       "      <td>Cumings, Mrs. John Bradley (Florence Briggs Th...</td>\n",
       "      <td>female</td>\n",
       "      <td>38.0</td>\n",
       "      <td>1</td>\n",
       "      <td>0</td>\n",
       "      <td>PC 17599</td>\n",
       "      <td>71.2833</td>\n",
       "      <td>C85</td>\n",
       "      <td>1</td>\n",
       "      <td>0</td>\n",
       "      <td>1</td>\n",
       "      <td>0</td>\n",
       "      <td>0</td>\n",
       "    </tr>\n",
       "    <tr>\n",
       "      <th>2</th>\n",
       "      <td>3</td>\n",
       "      <td>1</td>\n",
       "      <td>3</td>\n",
       "      <td>Heikkinen, Miss. Laina</td>\n",
       "      <td>female</td>\n",
       "      <td>26.0</td>\n",
       "      <td>0</td>\n",
       "      <td>0</td>\n",
       "      <td>STON/O2. 3101282</td>\n",
       "      <td>7.9250</td>\n",
       "      <td>¯\\_(ツ)_/¯</td>\n",
       "      <td>0</td>\n",
       "      <td>0</td>\n",
       "      <td>0</td>\n",
       "      <td>0</td>\n",
       "      <td>1</td>\n",
       "    </tr>\n",
       "    <tr>\n",
       "      <th>3</th>\n",
       "      <td>4</td>\n",
       "      <td>1</td>\n",
       "      <td>1</td>\n",
       "      <td>Futrelle, Mrs. Jacques Heath (Lily May Peel)</td>\n",
       "      <td>female</td>\n",
       "      <td>35.0</td>\n",
       "      <td>1</td>\n",
       "      <td>0</td>\n",
       "      <td>113803</td>\n",
       "      <td>53.1000</td>\n",
       "      <td>C123</td>\n",
       "      <td>1</td>\n",
       "      <td>0</td>\n",
       "      <td>0</td>\n",
       "      <td>0</td>\n",
       "      <td>1</td>\n",
       "    </tr>\n",
       "    <tr>\n",
       "      <th>4</th>\n",
       "      <td>5</td>\n",
       "      <td>0</td>\n",
       "      <td>3</td>\n",
       "      <td>Allen, Mr. William Henry</td>\n",
       "      <td>male</td>\n",
       "      <td>35.0</td>\n",
       "      <td>0</td>\n",
       "      <td>0</td>\n",
       "      <td>373450</td>\n",
       "      <td>8.0500</td>\n",
       "      <td>¯\\_(ツ)_/¯</td>\n",
       "      <td>0</td>\n",
       "      <td>0</td>\n",
       "      <td>0</td>\n",
       "      <td>0</td>\n",
       "      <td>1</td>\n",
       "    </tr>\n",
       "  </tbody>\n",
       "</table>\n",
       "</div>"
      ],
      "text/plain": [
       "   PassengerId  Survived  Pclass  \\\n",
       "0            1         0       3   \n",
       "1            2         1       1   \n",
       "2            3         1       3   \n",
       "3            4         1       1   \n",
       "4            5         0       3   \n",
       "\n",
       "                                                Name     Sex   Age  SibSp  \\\n",
       "0                            Braund, Mr. Owen Harris    male  22.0      1   \n",
       "1  Cumings, Mrs. John Bradley (Florence Briggs Th...  female  38.0      1   \n",
       "2                             Heikkinen, Miss. Laina  female  26.0      0   \n",
       "3       Futrelle, Mrs. Jacques Heath (Lily May Peel)  female  35.0      1   \n",
       "4                           Allen, Mr. William Henry    male  35.0      0   \n",
       "\n",
       "   Parch            Ticket     Fare      Cabin  FamilyCount  IsReverend  \\\n",
       "0      0         A/5 21171   7.2500  ¯\\_(ツ)_/¯            1           0   \n",
       "1      0          PC 17599  71.2833        C85            1           0   \n",
       "2      0  STON/O2. 3101282   7.9250  ¯\\_(ツ)_/¯            0           0   \n",
       "3      0            113803  53.1000       C123            1           0   \n",
       "4      0            373450   8.0500  ¯\\_(ツ)_/¯            0           0   \n",
       "\n",
       "   Embarked_C  Embarked_Q  Embarked_S  \n",
       "0           0           0           1  \n",
       "1           1           0           0  \n",
       "2           0           0           1  \n",
       "3           0           0           1  \n",
       "4           0           0           1  "
      ]
     },
     "execution_count": 627,
     "metadata": {},
     "output_type": "execute_result"
    }
   ],
   "source": [
    "#In order to feed our training data into a classification algorithm,\n",
    "#we need to convert our categories into 1's and 0's using `pd.get_dummies`\n",
    "#Create 3 columns: `Embarked_C`, `Embarked_Q` and `Embarked_S`. \n",
    "#These columns will have 1's and 0's that correspond to the `C`, `Q` and `S` values in the `Embarked` column\n",
    "\n",
    "titanic = pd.get_dummies(titanic, columns=['Embarked'])\n",
    "titanic.head()"
   ]
  },
  {
   "cell_type": "code",
   "execution_count": 628,
   "metadata": {},
   "outputs": [
    {
     "data": {
      "text/html": [
       "<div>\n",
       "<style scoped>\n",
       "    .dataframe tbody tr th:only-of-type {\n",
       "        vertical-align: middle;\n",
       "    }\n",
       "\n",
       "    .dataframe tbody tr th {\n",
       "        vertical-align: top;\n",
       "    }\n",
       "\n",
       "    .dataframe thead th {\n",
       "        text-align: right;\n",
       "    }\n",
       "</style>\n",
       "<table border=\"1\" class=\"dataframe\">\n",
       "  <thead>\n",
       "    <tr style=\"text-align: right;\">\n",
       "      <th></th>\n",
       "      <th>PassengerId</th>\n",
       "      <th>Survived</th>\n",
       "      <th>Pclass</th>\n",
       "      <th>Name</th>\n",
       "      <th>Age</th>\n",
       "      <th>SibSp</th>\n",
       "      <th>Parch</th>\n",
       "      <th>Ticket</th>\n",
       "      <th>Fare</th>\n",
       "      <th>Cabin</th>\n",
       "      <th>FamilyCount</th>\n",
       "      <th>IsReverend</th>\n",
       "      <th>Embarked_C</th>\n",
       "      <th>Embarked_Q</th>\n",
       "      <th>Embarked_S</th>\n",
       "      <th>Sex_female</th>\n",
       "      <th>Sex_male</th>\n",
       "    </tr>\n",
       "  </thead>\n",
       "  <tbody>\n",
       "    <tr>\n",
       "      <th>0</th>\n",
       "      <td>1</td>\n",
       "      <td>0</td>\n",
       "      <td>3</td>\n",
       "      <td>Braund, Mr. Owen Harris</td>\n",
       "      <td>22.0</td>\n",
       "      <td>1</td>\n",
       "      <td>0</td>\n",
       "      <td>A/5 21171</td>\n",
       "      <td>7.2500</td>\n",
       "      <td>¯\\_(ツ)_/¯</td>\n",
       "      <td>1</td>\n",
       "      <td>0</td>\n",
       "      <td>0</td>\n",
       "      <td>0</td>\n",
       "      <td>1</td>\n",
       "      <td>0</td>\n",
       "      <td>1</td>\n",
       "    </tr>\n",
       "    <tr>\n",
       "      <th>1</th>\n",
       "      <td>2</td>\n",
       "      <td>1</td>\n",
       "      <td>1</td>\n",
       "      <td>Cumings, Mrs. John Bradley (Florence Briggs Th...</td>\n",
       "      <td>38.0</td>\n",
       "      <td>1</td>\n",
       "      <td>0</td>\n",
       "      <td>PC 17599</td>\n",
       "      <td>71.2833</td>\n",
       "      <td>C85</td>\n",
       "      <td>1</td>\n",
       "      <td>0</td>\n",
       "      <td>1</td>\n",
       "      <td>0</td>\n",
       "      <td>0</td>\n",
       "      <td>1</td>\n",
       "      <td>0</td>\n",
       "    </tr>\n",
       "    <tr>\n",
       "      <th>2</th>\n",
       "      <td>3</td>\n",
       "      <td>1</td>\n",
       "      <td>3</td>\n",
       "      <td>Heikkinen, Miss. Laina</td>\n",
       "      <td>26.0</td>\n",
       "      <td>0</td>\n",
       "      <td>0</td>\n",
       "      <td>STON/O2. 3101282</td>\n",
       "      <td>7.9250</td>\n",
       "      <td>¯\\_(ツ)_/¯</td>\n",
       "      <td>0</td>\n",
       "      <td>0</td>\n",
       "      <td>0</td>\n",
       "      <td>0</td>\n",
       "      <td>1</td>\n",
       "      <td>1</td>\n",
       "      <td>0</td>\n",
       "    </tr>\n",
       "    <tr>\n",
       "      <th>3</th>\n",
       "      <td>4</td>\n",
       "      <td>1</td>\n",
       "      <td>1</td>\n",
       "      <td>Futrelle, Mrs. Jacques Heath (Lily May Peel)</td>\n",
       "      <td>35.0</td>\n",
       "      <td>1</td>\n",
       "      <td>0</td>\n",
       "      <td>113803</td>\n",
       "      <td>53.1000</td>\n",
       "      <td>C123</td>\n",
       "      <td>1</td>\n",
       "      <td>0</td>\n",
       "      <td>0</td>\n",
       "      <td>0</td>\n",
       "      <td>1</td>\n",
       "      <td>1</td>\n",
       "      <td>0</td>\n",
       "    </tr>\n",
       "    <tr>\n",
       "      <th>4</th>\n",
       "      <td>5</td>\n",
       "      <td>0</td>\n",
       "      <td>3</td>\n",
       "      <td>Allen, Mr. William Henry</td>\n",
       "      <td>35.0</td>\n",
       "      <td>0</td>\n",
       "      <td>0</td>\n",
       "      <td>373450</td>\n",
       "      <td>8.0500</td>\n",
       "      <td>¯\\_(ツ)_/¯</td>\n",
       "      <td>0</td>\n",
       "      <td>0</td>\n",
       "      <td>0</td>\n",
       "      <td>0</td>\n",
       "      <td>1</td>\n",
       "      <td>0</td>\n",
       "      <td>1</td>\n",
       "    </tr>\n",
       "  </tbody>\n",
       "</table>\n",
       "</div>"
      ],
      "text/plain": [
       "   PassengerId  Survived  Pclass  \\\n",
       "0            1         0       3   \n",
       "1            2         1       1   \n",
       "2            3         1       3   \n",
       "3            4         1       1   \n",
       "4            5         0       3   \n",
       "\n",
       "                                                Name   Age  SibSp  Parch  \\\n",
       "0                            Braund, Mr. Owen Harris  22.0      1      0   \n",
       "1  Cumings, Mrs. John Bradley (Florence Briggs Th...  38.0      1      0   \n",
       "2                             Heikkinen, Miss. Laina  26.0      0      0   \n",
       "3       Futrelle, Mrs. Jacques Heath (Lily May Peel)  35.0      1      0   \n",
       "4                           Allen, Mr. William Henry  35.0      0      0   \n",
       "\n",
       "             Ticket     Fare      Cabin  FamilyCount  IsReverend  Embarked_C  \\\n",
       "0         A/5 21171   7.2500  ¯\\_(ツ)_/¯            1           0           0   \n",
       "1          PC 17599  71.2833        C85            1           0           1   \n",
       "2  STON/O2. 3101282   7.9250  ¯\\_(ツ)_/¯            0           0           0   \n",
       "3            113803  53.1000       C123            1           0           0   \n",
       "4            373450   8.0500  ¯\\_(ツ)_/¯            0           0           0   \n",
       "\n",
       "   Embarked_Q  Embarked_S  Sex_female  Sex_male  \n",
       "0           0           1           0         1  \n",
       "1           0           0           1         0  \n",
       "2           0           1           1         0  \n",
       "3           0           1           1         0  \n",
       "4           0           1           0         1  "
      ]
     },
     "execution_count": 628,
     "metadata": {},
     "output_type": "execute_result"
    }
   ],
   "source": [
    "#Do the same thing for `Sex`\n",
    "titanic = pd.get_dummies(titanic, columns=['Sex'])\n",
    "titanic.head()"
   ]
  },
  {
   "cell_type": "code",
   "execution_count": 629,
   "metadata": {},
   "outputs": [
    {
     "data": {
      "text/plain": [
       "38.24521934758155"
      ]
     },
     "execution_count": 629,
     "metadata": {},
     "output_type": "execute_result"
    }
   ],
   "source": [
    "#What was the survival rate overall?\n",
    "total_Survived=titanic['Survived'].sum()\n",
    "survival_rate = (total_Survived / (len(titanic['Survived'])))*100\n",
    "survival_rate"
   ]
  },
  {
   "cell_type": "code",
   "execution_count": 630,
   "metadata": {},
   "outputs": [
    {
     "name": "stdout",
     "output_type": "stream",
     "text": [
      "Total male survivors: 109\n",
      "Male survival rate: 18.890814558058924\n",
      "Total female survivors: 231\n",
      "Female survival rate: 74.03846153846155\n"
     ]
    }
   ],
   "source": [
    "#Which gender fared the worst? What was their survival rate?\n",
    "\n",
    "Surv_male =len(titanic[(titanic.Sex_male == 1) & (titanic.Survived == 1)])\n",
    "Surv_female =len(titanic[(titanic.Sex_female == 1) & (titanic.Survived == 1)])\n",
    "Surv_male_rate = (Surv_male / len(titanic[(titanic.Sex_male == 1)]) ) *100\n",
    "Surv_female_rate =(Surv_female/ len(titanic[(titanic.Sex_female == 1)]) ) *100\n",
    "print('Total male survivors: ' + str(Surv_male))\n",
    "print('Male survival rate: ' + str(Surv_male_rate))\n",
    "\n",
    "print('Total female survivors: ' + str(Surv_female))\n",
    "print('Female survival rate: ' + str(Surv_female_rate))"
   ]
  },
  {
   "cell_type": "code",
   "execution_count": 631,
   "metadata": {},
   "outputs": [
    {
     "data": {
      "text/html": [
       "<div>\n",
       "<style scoped>\n",
       "    .dataframe tbody tr th:only-of-type {\n",
       "        vertical-align: middle;\n",
       "    }\n",
       "\n",
       "    .dataframe tbody tr th {\n",
       "        vertical-align: top;\n",
       "    }\n",
       "\n",
       "    .dataframe thead th {\n",
       "        text-align: right;\n",
       "    }\n",
       "</style>\n",
       "<table border=\"1\" class=\"dataframe\">\n",
       "  <thead>\n",
       "    <tr style=\"text-align: right;\">\n",
       "      <th></th>\n",
       "      <th>PassengerId</th>\n",
       "      <th>Survived</th>\n",
       "      <th>Pclass</th>\n",
       "      <th>Name</th>\n",
       "      <th>Age</th>\n",
       "      <th>SibSp</th>\n",
       "      <th>Parch</th>\n",
       "      <th>Ticket</th>\n",
       "      <th>Fare</th>\n",
       "      <th>Cabin</th>\n",
       "      <th>FamilyCount</th>\n",
       "      <th>IsReverend</th>\n",
       "      <th>Embarked_C</th>\n",
       "      <th>Embarked_Q</th>\n",
       "      <th>Embarked_S</th>\n",
       "      <th>Sex_female</th>\n",
       "      <th>Sex_male</th>\n",
       "    </tr>\n",
       "  </thead>\n",
       "  <tbody>\n",
       "    <tr>\n",
       "      <th>0</th>\n",
       "      <td>1</td>\n",
       "      <td>0</td>\n",
       "      <td>3</td>\n",
       "      <td>Braund, Mr. Owen Harris</td>\n",
       "      <td>22.0</td>\n",
       "      <td>1</td>\n",
       "      <td>0</td>\n",
       "      <td>A/5 21171</td>\n",
       "      <td>7.2500</td>\n",
       "      <td>¯\\_(ツ)_/¯</td>\n",
       "      <td>1</td>\n",
       "      <td>0</td>\n",
       "      <td>0</td>\n",
       "      <td>0</td>\n",
       "      <td>1</td>\n",
       "      <td>0</td>\n",
       "      <td>1</td>\n",
       "    </tr>\n",
       "    <tr>\n",
       "      <th>1</th>\n",
       "      <td>2</td>\n",
       "      <td>1</td>\n",
       "      <td>1</td>\n",
       "      <td>Cumings, Mrs. John Bradley (Florence Briggs Th...</td>\n",
       "      <td>38.0</td>\n",
       "      <td>1</td>\n",
       "      <td>0</td>\n",
       "      <td>PC 17599</td>\n",
       "      <td>71.2833</td>\n",
       "      <td>C85</td>\n",
       "      <td>1</td>\n",
       "      <td>0</td>\n",
       "      <td>1</td>\n",
       "      <td>0</td>\n",
       "      <td>0</td>\n",
       "      <td>1</td>\n",
       "      <td>0</td>\n",
       "    </tr>\n",
       "    <tr>\n",
       "      <th>2</th>\n",
       "      <td>3</td>\n",
       "      <td>1</td>\n",
       "      <td>3</td>\n",
       "      <td>Heikkinen, Miss. Laina</td>\n",
       "      <td>26.0</td>\n",
       "      <td>0</td>\n",
       "      <td>0</td>\n",
       "      <td>STON/O2. 3101282</td>\n",
       "      <td>7.9250</td>\n",
       "      <td>¯\\_(ツ)_/¯</td>\n",
       "      <td>0</td>\n",
       "      <td>0</td>\n",
       "      <td>0</td>\n",
       "      <td>0</td>\n",
       "      <td>1</td>\n",
       "      <td>1</td>\n",
       "      <td>0</td>\n",
       "    </tr>\n",
       "    <tr>\n",
       "      <th>3</th>\n",
       "      <td>4</td>\n",
       "      <td>1</td>\n",
       "      <td>1</td>\n",
       "      <td>Futrelle, Mrs. Jacques Heath (Lily May Peel)</td>\n",
       "      <td>35.0</td>\n",
       "      <td>1</td>\n",
       "      <td>0</td>\n",
       "      <td>113803</td>\n",
       "      <td>53.1000</td>\n",
       "      <td>C123</td>\n",
       "      <td>1</td>\n",
       "      <td>0</td>\n",
       "      <td>0</td>\n",
       "      <td>0</td>\n",
       "      <td>1</td>\n",
       "      <td>1</td>\n",
       "      <td>0</td>\n",
       "    </tr>\n",
       "    <tr>\n",
       "      <th>4</th>\n",
       "      <td>5</td>\n",
       "      <td>0</td>\n",
       "      <td>3</td>\n",
       "      <td>Allen, Mr. William Henry</td>\n",
       "      <td>35.0</td>\n",
       "      <td>0</td>\n",
       "      <td>0</td>\n",
       "      <td>373450</td>\n",
       "      <td>8.0500</td>\n",
       "      <td>¯\\_(ツ)_/¯</td>\n",
       "      <td>0</td>\n",
       "      <td>0</td>\n",
       "      <td>0</td>\n",
       "      <td>0</td>\n",
       "      <td>1</td>\n",
       "      <td>0</td>\n",
       "      <td>1</td>\n",
       "    </tr>\n",
       "  </tbody>\n",
       "</table>\n",
       "</div>"
      ],
      "text/plain": [
       "   PassengerId  Survived  Pclass  \\\n",
       "0            1         0       3   \n",
       "1            2         1       1   \n",
       "2            3         1       3   \n",
       "3            4         1       1   \n",
       "4            5         0       3   \n",
       "\n",
       "                                                Name   Age  SibSp  Parch  \\\n",
       "0                            Braund, Mr. Owen Harris  22.0      1      0   \n",
       "1  Cumings, Mrs. John Bradley (Florence Briggs Th...  38.0      1      0   \n",
       "2                             Heikkinen, Miss. Laina  26.0      0      0   \n",
       "3       Futrelle, Mrs. Jacques Heath (Lily May Peel)  35.0      1      0   \n",
       "4                           Allen, Mr. William Henry  35.0      0      0   \n",
       "\n",
       "             Ticket     Fare      Cabin  FamilyCount  IsReverend  Embarked_C  \\\n",
       "0         A/5 21171   7.2500  ¯\\_(ツ)_/¯            1           0           0   \n",
       "1          PC 17599  71.2833        C85            1           0           1   \n",
       "2  STON/O2. 3101282   7.9250  ¯\\_(ツ)_/¯            0           0           0   \n",
       "3            113803  53.1000       C123            1           0           0   \n",
       "4            373450   8.0500  ¯\\_(ツ)_/¯            0           0           0   \n",
       "\n",
       "   Embarked_Q  Embarked_S  Sex_female  Sex_male  \n",
       "0           0           1           0         1  \n",
       "1           0           0           1         0  \n",
       "2           0           1           1         0  \n",
       "3           0           1           1         0  \n",
       "4           0           1           0         1  "
      ]
     },
     "execution_count": 631,
     "metadata": {},
     "output_type": "execute_result"
    }
   ],
   "source": [
    "titanic.head()"
   ]
  },
  {
   "cell_type": "code",
   "execution_count": 632,
   "metadata": {},
   "outputs": [
    {
     "name": "stdout",
     "output_type": "stream",
     "text": [
      "PClass 3 survival rate: 35.0\n",
      "PClass 2 survival rate: 25.588235294117645\n",
      "PClass 1 survival rate: 39.411764705882355\n"
     ]
    }
   ],
   "source": [
    "#What was the survival rate for each `Pclass`?\n",
    "\n",
    "\n",
    "p_3 = len(titanic[(titanic.Pclass == 3) & (titanic.Survived == 1)])\n",
    "p_2 = len(titanic[(titanic.Pclass == 2) & (titanic.Survived == 1)])\n",
    "p_1 = len(titanic[(titanic.Pclass == 1) & (titanic.Survived == 1)])\n",
    "\n",
    "rate_p_3= (p_3 / titanic['Survived'].sum()) *100\n",
    "rate_p_2= (p_2 / titanic['Survived'].sum()) *100\n",
    "rate_p_1= (p_1 / titanic['Survived'].sum()) *100\n",
    "\n",
    "print('PClass 3 survival rate: ' + str(rate_p_3))\n",
    "print('PClass 2 survival rate: ' + str(rate_p_2))\n",
    "print('PClass 1 survival rate: ' + str(rate_p_1))"
   ]
  },
  {
   "cell_type": "code",
   "execution_count": 633,
   "metadata": {},
   "outputs": [
    {
     "name": "stdout",
     "output_type": "stream",
     "text": [
      "The survival rate for cabins marked **¯\\_(ツ)_/¯**: 29.985443959243085\n"
     ]
    }
   ],
   "source": [
    "#What is the survival rate for cabins marked **¯\\\\_(ツ)_/¯**\n",
    "\n",
    "cabins_face = len(titanic[(titanic.Cabin == \"¯\\\\_(ツ)_/¯\") & (titanic.Survived == 1)])\n",
    "rate_cabins_face = (cabins_face / len(titanic[(titanic.Cabin == \"¯\\\\_(ツ)_/¯\") ])) *100\n",
    "\n",
    "print('The survival rate for cabins marked **¯\\\\_(ツ)_/¯**: ' + str(rate_cabins_face))"
   ]
  },
  {
   "cell_type": "code",
   "execution_count": 634,
   "metadata": {},
   "outputs": [
    {
     "name": "stdout",
     "output_type": "stream",
     "text": [
      "The survival rate for people whose Age is empty: 15.294117647058824\n"
     ]
    }
   ],
   "source": [
    "# What is the survival rate for people whose `Age` is empty?\n",
    "emp_age = len(titanic[(titanic.Age.isnull()) & (titanic.Survived == 1)])\n",
    "emp_age_rate =(emp_age /titanic['Survived'].sum() *100)\n",
    "\n",
    "print('The survival rate for people whose Age is empty: ' + str(emp_age_rate))\n"
   ]
  },
  {
   "cell_type": "code",
   "execution_count": 635,
   "metadata": {},
   "outputs": [
    {
     "name": "stdout",
     "output_type": "stream",
     "text": [
      "The survival rate for C embarkation: 27.35294117647059\n",
      "The survival rate for Q embarkation: 8.823529411764707\n",
      "The survival rate for S embarkation: 63.8235294117647\n"
     ]
    }
   ],
   "source": [
    "#What is the survival rate for each port of embarkation?\n",
    "\n",
    "#Embarked_C\n",
    "surv_embarkedC =len(titanic[(titanic.Embarked_C == 1) & (titanic.Survived == 1)])\n",
    "surv_embarkedC_rate = (surv_embarkedC / titanic['Survived'].sum() ) *100\n",
    "#Embarked_Q\n",
    "surv_embarkedQ =len(titanic[(titanic.Embarked_Q == 1) & (titanic.Survived == 1)])\n",
    "surv_embarkedQ_rate = (surv_embarkedQ / titanic['Survived'].sum() ) *100\n",
    "#Embarked_S\n",
    "surv_embarkedS =len(titanic[(titanic.Embarked_S == 1) & (titanic.Survived == 1)])\n",
    "surv_embarkedS_rate = (surv_embarkedS / titanic['Survived'].sum() ) *100\n",
    "\n",
    "print('The survival rate for C embarkation: ' + str(surv_embarkedC_rate))\n",
    "print('The survival rate for Q embarkation: ' + str(surv_embarkedQ_rate))\n",
    "print('The survival rate for S embarkation: ' + str(surv_embarkedS_rate))"
   ]
  },
  {
   "cell_type": "code",
   "execution_count": 636,
   "metadata": {},
   "outputs": [
    {
     "name": "stdout",
     "output_type": "stream",
     "text": [
      "the survival rate for children (under 12) in Pclass 3: 5.588235294117648\n",
      "the survival rate for children (under 12) in Pclass 2: 5.0\n",
      "the survival rate for children (under 12) in Pclass 1: 0.8823529411764706\n"
     ]
    }
   ],
   "source": [
    "#What is the survival rate for children (under 12) in each `Pclass`?\n",
    "\n",
    "child_p_3 = len(titanic[(titanic.Pclass == 3) & (titanic.Survived == 1) & (titanic.Age < 12)])\n",
    "child_rate_p_3= (child_p_3 / titanic['Survived'].sum()) *100\n",
    "\n",
    "child_p_2 = len(titanic[(titanic.Pclass == 2) & (titanic.Survived == 1) & (titanic.Age < 12)])\n",
    "child_rate_p_2= (child_p_2 / titanic['Survived'].sum()) *100\n",
    "\n",
    "child_p_1 = len(titanic[(titanic.Pclass == 1) & (titanic.Survived == 1) & (titanic.Age < 12)])\n",
    "child_rate_p_1= (child_p_1 / titanic['Survived'].sum()) *100\n",
    "\n",
    "print('the survival rate for children (under 12) in Pclass 3: ' + str(child_rate_p_3))\n",
    "print('the survival rate for children (under 12) in Pclass 2: ' + str(child_rate_p_2))\n",
    "print('the survival rate for children (under 12) in Pclass 1: ' + str(child_rate_p_1))"
   ]
  },
  {
   "cell_type": "code",
   "execution_count": 637,
   "metadata": {},
   "outputs": [
    {
     "data": {
      "text/html": [
       "<div>\n",
       "<style scoped>\n",
       "    .dataframe tbody tr th:only-of-type {\n",
       "        vertical-align: middle;\n",
       "    }\n",
       "\n",
       "    .dataframe tbody tr th {\n",
       "        vertical-align: top;\n",
       "    }\n",
       "\n",
       "    .dataframe thead th {\n",
       "        text-align: right;\n",
       "    }\n",
       "</style>\n",
       "<table border=\"1\" class=\"dataframe\">\n",
       "  <thead>\n",
       "    <tr style=\"text-align: right;\">\n",
       "      <th></th>\n",
       "      <th>PassengerId</th>\n",
       "      <th>Survived</th>\n",
       "      <th>Pclass</th>\n",
       "      <th>Name</th>\n",
       "      <th>Age</th>\n",
       "      <th>SibSp</th>\n",
       "      <th>Parch</th>\n",
       "      <th>Ticket</th>\n",
       "      <th>Fare</th>\n",
       "      <th>Cabin</th>\n",
       "      <th>FamilyCount</th>\n",
       "      <th>IsReverend</th>\n",
       "      <th>Embarked_C</th>\n",
       "      <th>Embarked_Q</th>\n",
       "      <th>Embarked_S</th>\n",
       "      <th>Sex_female</th>\n",
       "      <th>Sex_male</th>\n",
       "    </tr>\n",
       "  </thead>\n",
       "  <tbody>\n",
       "    <tr>\n",
       "      <th>174</th>\n",
       "      <td>175</td>\n",
       "      <td>0</td>\n",
       "      <td>1</td>\n",
       "      <td>Smith, Mr. James Clinch</td>\n",
       "      <td>56.0</td>\n",
       "      <td>0</td>\n",
       "      <td>0</td>\n",
       "      <td>17764</td>\n",
       "      <td>30.6958</td>\n",
       "      <td>A7</td>\n",
       "      <td>0</td>\n",
       "      <td>0</td>\n",
       "      <td>1</td>\n",
       "      <td>0</td>\n",
       "      <td>0</td>\n",
       "      <td>0</td>\n",
       "      <td>1</td>\n",
       "    </tr>\n",
       "    <tr>\n",
       "      <th>260</th>\n",
       "      <td>261</td>\n",
       "      <td>0</td>\n",
       "      <td>3</td>\n",
       "      <td>Smith, Mr. Thomas</td>\n",
       "      <td>NaN</td>\n",
       "      <td>0</td>\n",
       "      <td>0</td>\n",
       "      <td>384461</td>\n",
       "      <td>7.7500</td>\n",
       "      <td>¯\\_(ツ)_/¯</td>\n",
       "      <td>0</td>\n",
       "      <td>0</td>\n",
       "      <td>0</td>\n",
       "      <td>1</td>\n",
       "      <td>0</td>\n",
       "      <td>0</td>\n",
       "      <td>1</td>\n",
       "    </tr>\n",
       "    <tr>\n",
       "      <th>284</th>\n",
       "      <td>285</td>\n",
       "      <td>0</td>\n",
       "      <td>1</td>\n",
       "      <td>Smith, Mr. Richard William</td>\n",
       "      <td>NaN</td>\n",
       "      <td>0</td>\n",
       "      <td>0</td>\n",
       "      <td>113056</td>\n",
       "      <td>26.0000</td>\n",
       "      <td>A19</td>\n",
       "      <td>0</td>\n",
       "      <td>0</td>\n",
       "      <td>0</td>\n",
       "      <td>0</td>\n",
       "      <td>1</td>\n",
       "      <td>0</td>\n",
       "      <td>1</td>\n",
       "    </tr>\n",
       "    <tr>\n",
       "      <th>346</th>\n",
       "      <td>347</td>\n",
       "      <td>1</td>\n",
       "      <td>2</td>\n",
       "      <td>Smith, Miss. Marion Elsie</td>\n",
       "      <td>40.0</td>\n",
       "      <td>0</td>\n",
       "      <td>0</td>\n",
       "      <td>31418</td>\n",
       "      <td>13.0000</td>\n",
       "      <td>¯\\_(ツ)_/¯</td>\n",
       "      <td>0</td>\n",
       "      <td>0</td>\n",
       "      <td>0</td>\n",
       "      <td>0</td>\n",
       "      <td>1</td>\n",
       "      <td>1</td>\n",
       "      <td>0</td>\n",
       "    </tr>\n",
       "  </tbody>\n",
       "</table>\n",
       "</div>"
      ],
      "text/plain": [
       "     PassengerId  Survived  Pclass                        Name   Age  SibSp  \\\n",
       "174          175         0       1     Smith, Mr. James Clinch  56.0      0   \n",
       "260          261         0       3           Smith, Mr. Thomas   NaN      0   \n",
       "284          285         0       1  Smith, Mr. Richard William   NaN      0   \n",
       "346          347         1       2   Smith, Miss. Marion Elsie  40.0      0   \n",
       "\n",
       "     Parch  Ticket     Fare      Cabin  FamilyCount  IsReverend  Embarked_C  \\\n",
       "174      0   17764  30.6958         A7            0           0           1   \n",
       "260      0  384461   7.7500  ¯\\_(ツ)_/¯            0           0           0   \n",
       "284      0  113056  26.0000        A19            0           0           0   \n",
       "346      0   31418  13.0000  ¯\\_(ツ)_/¯            0           0           0   \n",
       "\n",
       "     Embarked_Q  Embarked_S  Sex_female  Sex_male  \n",
       "174           0           0           0         1  \n",
       "260           1           0           0         1  \n",
       "284           0           1           0         1  \n",
       "346           0           1           1         0  "
      ]
     },
     "execution_count": 637,
     "metadata": {},
     "output_type": "execute_result"
    }
   ],
   "source": [
    "#Did the captain of the ship survive? Is he on the list?\n",
    "\n",
    "\"\"\"After searching through Google, I have found that the captain's name is Edward John Smith\"\"\"\n",
    "\n",
    "onlist=titanic['Name'].str.contains('Smith', na='1')\n",
    "titanic[onlist] "
   ]
  },
  {
   "cell_type": "code",
   "execution_count": 638,
   "metadata": {},
   "outputs": [
    {
     "data": {
      "text/plain": [
       "' The captain of the ship is not on the list'"
      ]
     },
     "execution_count": 638,
     "metadata": {},
     "output_type": "execute_result"
    }
   ],
   "source": [
    "#Did the captain of the ship survive? Is he on the list?\n",
    "\" The captain of the ship is not on the list\""
   ]
  },
  {
   "cell_type": "code",
   "execution_count": 639,
   "metadata": {},
   "outputs": [
    {
     "data": {
      "text/html": [
       "<div>\n",
       "<style scoped>\n",
       "    .dataframe tbody tr th:only-of-type {\n",
       "        vertical-align: middle;\n",
       "    }\n",
       "\n",
       "    .dataframe tbody tr th {\n",
       "        vertical-align: top;\n",
       "    }\n",
       "\n",
       "    .dataframe thead th {\n",
       "        text-align: right;\n",
       "    }\n",
       "</style>\n",
       "<table border=\"1\" class=\"dataframe\">\n",
       "  <thead>\n",
       "    <tr style=\"text-align: right;\">\n",
       "      <th></th>\n",
       "      <th>PassengerId</th>\n",
       "      <th>Survived</th>\n",
       "      <th>Pclass</th>\n",
       "      <th>Name</th>\n",
       "      <th>Age</th>\n",
       "      <th>SibSp</th>\n",
       "      <th>Parch</th>\n",
       "      <th>Ticket</th>\n",
       "      <th>Fare</th>\n",
       "      <th>Cabin</th>\n",
       "      <th>FamilyCount</th>\n",
       "      <th>IsReverend</th>\n",
       "      <th>Embarked_C</th>\n",
       "      <th>Embarked_Q</th>\n",
       "      <th>Embarked_S</th>\n",
       "      <th>Sex_female</th>\n",
       "      <th>Sex_male</th>\n",
       "    </tr>\n",
       "  </thead>\n",
       "  <tbody>\n",
       "    <tr>\n",
       "      <th>27</th>\n",
       "      <td>28</td>\n",
       "      <td>0</td>\n",
       "      <td>1</td>\n",
       "      <td>Fortune, Mr. Charles Alexander</td>\n",
       "      <td>19.0</td>\n",
       "      <td>3</td>\n",
       "      <td>2</td>\n",
       "      <td>19950</td>\n",
       "      <td>263.0000</td>\n",
       "      <td>C23 C25 C27</td>\n",
       "      <td>5</td>\n",
       "      <td>0</td>\n",
       "      <td>0</td>\n",
       "      <td>0</td>\n",
       "      <td>1</td>\n",
       "      <td>0</td>\n",
       "      <td>1</td>\n",
       "    </tr>\n",
       "    <tr>\n",
       "      <th>438</th>\n",
       "      <td>439</td>\n",
       "      <td>0</td>\n",
       "      <td>1</td>\n",
       "      <td>Fortune, Mr. Mark</td>\n",
       "      <td>64.0</td>\n",
       "      <td>1</td>\n",
       "      <td>4</td>\n",
       "      <td>19950</td>\n",
       "      <td>263.0000</td>\n",
       "      <td>C23 C25 C27</td>\n",
       "      <td>5</td>\n",
       "      <td>0</td>\n",
       "      <td>0</td>\n",
       "      <td>0</td>\n",
       "      <td>1</td>\n",
       "      <td>0</td>\n",
       "      <td>1</td>\n",
       "    </tr>\n",
       "    <tr>\n",
       "      <th>118</th>\n",
       "      <td>119</td>\n",
       "      <td>0</td>\n",
       "      <td>1</td>\n",
       "      <td>Baxter, Mr. Quigg Edmond</td>\n",
       "      <td>24.0</td>\n",
       "      <td>0</td>\n",
       "      <td>1</td>\n",
       "      <td>PC 17558</td>\n",
       "      <td>247.5208</td>\n",
       "      <td>B58 B60</td>\n",
       "      <td>1</td>\n",
       "      <td>0</td>\n",
       "      <td>1</td>\n",
       "      <td>0</td>\n",
       "      <td>0</td>\n",
       "      <td>0</td>\n",
       "      <td>1</td>\n",
       "    </tr>\n",
       "    <tr>\n",
       "      <th>557</th>\n",
       "      <td>558</td>\n",
       "      <td>0</td>\n",
       "      <td>1</td>\n",
       "      <td>Robbins, Mr. Victor</td>\n",
       "      <td>NaN</td>\n",
       "      <td>0</td>\n",
       "      <td>0</td>\n",
       "      <td>PC 17757</td>\n",
       "      <td>227.5250</td>\n",
       "      <td>¯\\_(ツ)_/¯</td>\n",
       "      <td>0</td>\n",
       "      <td>0</td>\n",
       "      <td>1</td>\n",
       "      <td>0</td>\n",
       "      <td>0</td>\n",
       "      <td>0</td>\n",
       "      <td>1</td>\n",
       "    </tr>\n",
       "    <tr>\n",
       "      <th>527</th>\n",
       "      <td>528</td>\n",
       "      <td>0</td>\n",
       "      <td>1</td>\n",
       "      <td>Farthing, Mr. John</td>\n",
       "      <td>NaN</td>\n",
       "      <td>0</td>\n",
       "      <td>0</td>\n",
       "      <td>PC 17483</td>\n",
       "      <td>221.7792</td>\n",
       "      <td>C95</td>\n",
       "      <td>0</td>\n",
       "      <td>0</td>\n",
       "      <td>0</td>\n",
       "      <td>0</td>\n",
       "      <td>1</td>\n",
       "      <td>0</td>\n",
       "      <td>1</td>\n",
       "    </tr>\n",
       "  </tbody>\n",
       "</table>\n",
       "</div>"
      ],
      "text/plain": [
       "     PassengerId  Survived  Pclass                            Name   Age  \\\n",
       "27            28         0       1  Fortune, Mr. Charles Alexander  19.0   \n",
       "438          439         0       1               Fortune, Mr. Mark  64.0   \n",
       "118          119         0       1        Baxter, Mr. Quigg Edmond  24.0   \n",
       "557          558         0       1             Robbins, Mr. Victor   NaN   \n",
       "527          528         0       1              Farthing, Mr. John   NaN   \n",
       "\n",
       "     SibSp  Parch    Ticket      Fare        Cabin  FamilyCount  IsReverend  \\\n",
       "27       3      2     19950  263.0000  C23 C25 C27            5           0   \n",
       "438      1      4     19950  263.0000  C23 C25 C27            5           0   \n",
       "118      0      1  PC 17558  247.5208      B58 B60            1           0   \n",
       "557      0      0  PC 17757  227.5250    ¯\\_(ツ)_/¯            0           0   \n",
       "527      0      0  PC 17483  221.7792          C95            0           0   \n",
       "\n",
       "     Embarked_C  Embarked_Q  Embarked_S  Sex_female  Sex_male  \n",
       "27            0           0           1           0         1  \n",
       "438           0           0           1           0         1  \n",
       "118           1           0           0           0         1  \n",
       "557           1           0           0           0         1  \n",
       "527           0           0           1           0         1  "
      ]
     },
     "execution_count": 639,
     "metadata": {},
     "output_type": "execute_result"
    }
   ],
   "source": [
    "#Of all the people that died, who had the most expensive ticket? How much did it cost?\n",
    "\n",
    "not_Survived=titanic[(titanic.Survived == 0)]\n",
    "not_Survived.sort_values('Fare', ascending=False).head()\n"
   ]
  },
  {
   "cell_type": "code",
   "execution_count": 640,
   "metadata": {},
   "outputs": [
    {
     "data": {
      "text/plain": [
       "'Both Mr. Charles Alexander Fortune and Mr. Mark Fortune paid the most expensive ticket out of all the people that died. The ticket price was 263.0000'"
      ]
     },
     "execution_count": 640,
     "metadata": {},
     "output_type": "execute_result"
    }
   ],
   "source": [
    "#Of all the people that died, who had the most expensive ticket? How much did it cost?\n",
    "\"Both Mr. Charles Alexander Fortune and Mr. Mark Fortune paid the most expensive ticket out of all the people that died. The ticket price was 263.0000\"\n"
   ]
  },
  {
   "cell_type": "code",
   "execution_count": 641,
   "metadata": {},
   "outputs": [
    {
     "name": "stdout",
     "output_type": "stream",
     "text": [
      "The survival rate for people who have family on the boat: 52.64705882352941\n",
      "The survival rate for people who have not family on the boat: 47.35294117647059\n"
     ]
    }
   ],
   "source": [
    "#Does having family on the boat help or hurt your chances of survival?\n",
    "surv_fam = len(titanic[(titanic.FamilyCount >0) & (titanic.Survived == 1)])\n",
    "surv_fam_rate = (surv_fam / titanic['Survived'].sum()) *100\n",
    "\n",
    "\n",
    "surv_notFam = len(titanic[(titanic.FamilyCount <= 0) & (titanic.Survived == 1)])\n",
    "surv_notFam_rate = (surv_notFam / titanic['Survived'].sum()) *100\n",
    "\n",
    "\n",
    "print('The survival rate for people who have family on the boat: ' + str(surv_fam_rate))\n",
    "print('The survival rate for people who have not family on the boat: ' + str(surv_notFam_rate))"
   ]
  },
  {
   "cell_type": "code",
   "execution_count": 642,
   "metadata": {},
   "outputs": [],
   "source": [
    "#Using Matplotlib and Seaborn, create several charts showing the survival rates of different groups of people.\n",
    "#It's fine if a handful of charts are basic (Gender, Age, etc), but what \n",
    "#we're really looking for is something beneath the surface.\n"
   ]
  },
  {
   "cell_type": "code",
   "execution_count": 643,
   "metadata": {},
   "outputs": [
    {
     "data": {
      "image/png": "[encoded data removed]",
      "text/plain": [
       "<Figure size 432x288 with 1 Axes>"
      ]
     },
     "metadata": {},
     "output_type": "display_data"
    }
   ],
   "source": [
    "\n",
    "titanic.Pclass.value_counts().plot(kind='barh',color=['b','c','m']);"
   ]
  },
  {
   "cell_type": "code",
   "execution_count": 644,
   "metadata": {},
   "outputs": [
    {
     "data": {
      "text/plain": [
       "<matplotlib.axes._subplots.AxesSubplot at 0x1a1f2bdfd0>"
      ]
     },
     "execution_count": 644,
     "metadata": {},
     "output_type": "execute_result"
    },
    {
     "data": {
      "image/png": "[encoded data removed]",
      "text/plain": [
       "<Figure size 432x288 with 1 Axes>"
      ]
     },
     "metadata": {},
     "output_type": "display_data"
    }
   ],
   "source": [
    "titanic.Sex_male.value_counts().sort_index().plot(kind='bar')"
   ]
  },
  {
   "cell_type": "code",
   "execution_count": 645,
   "metadata": {},
   "outputs": [
    {
     "data": {
      "text/plain": [
       "4.793334993307843"
      ]
     },
     "execution_count": 645,
     "metadata": {},
     "output_type": "execute_result"
    }
   ],
   "source": [
    "stats.skew(titanic['Fare']) #"
   ]
  },
  {
   "cell_type": "code",
   "execution_count": 646,
   "metadata": {},
   "outputs": [
    {
     "data": {
      "image/png": "[encoded data removed]",
      "text/plain": [
       "<Figure size 432x288 with 1 Axes>"
      ]
     },
     "metadata": {},
     "output_type": "display_data"
    }
   ],
   "source": [
    "titanic['Fare'].plot.kde();\n",
    "plt.ylabel('')\n",
    "plt.show()"
   ]
  },
  {
   "cell_type": "code",
   "execution_count": 647,
   "metadata": {},
   "outputs": [
    {
     "data": {
      "text/plain": [
       "4.793334993307843"
      ]
     },
     "execution_count": 647,
     "metadata": {},
     "output_type": "execute_result"
    }
   ],
   "source": [
    "stats.skew(titanic['Fare']) #positive skew\n"
   ]
  },
  {
   "cell_type": "code",
   "execution_count": 648,
   "metadata": {},
   "outputs": [
    {
     "name": "stdout",
     "output_type": "stream",
     "text": [
      "PassengerId    0.033681\n",
      "Survived      -0.082446\n",
      "Pclass        -0.365902\n",
      "Age            1.000000\n",
      "SibSp         -0.307351\n",
      "Parch         -0.187896\n",
      "Fare           0.093143\n",
      "FamilyCount   -0.300699\n",
      "IsReverend     0.086089\n",
      "Embarked_C     0.038268\n",
      "Embarked_Q    -0.021693\n",
      "Embarked_S    -0.025431\n",
      "Sex_female    -0.099037\n",
      "Sex_male       0.099037\n",
      "Name: Age, dtype: float64\n"
     ]
    },
    {
     "data": {
      "image/png": "[encoded data removed]",
      "text/plain": [
       "<Figure size 432x288 with 1 Axes>"
      ]
     },
     "metadata": {},
     "output_type": "display_data"
    }
   ],
   "source": [
    "# Are soda servings and coffee servings correlated?\n",
    "#drinks.plot(kind='scatter', x='soda_servings', y='coffee_servings')\n",
    "titanic.plot(kind='scatter', x='Age',y='Fare')\n",
    "print((titanic.corr()['Age']))  # Correlation coefficients"
   ]
  },
  {
   "cell_type": "code",
   "execution_count": 649,
   "metadata": {},
   "outputs": [
    {
     "data": {
      "text/html": [
       "<style  type=\"text/css\" >\n",
       "</style><table id=\"T_c9657f9e_abad_11e9_92fe_6c4008b7bcd2\" ><thead>    <tr>        <th class=\"blank level0\" ></th>        <th class=\"col_heading level0 col0\" >count</th>        <th class=\"col_heading level0 col1\" >mean</th>        <th class=\"col_heading level0 col2\" >std</th>        <th class=\"col_heading level0 col3\" >min</th>        <th class=\"col_heading level0 col4\" >25%</th>        <th class=\"col_heading level0 col5\" >50%</th>        <th class=\"col_heading level0 col6\" >75%</th>        <th class=\"col_heading level0 col7\" >max</th>    </tr></thead><tbody>\n",
       "                <tr>\n",
       "                        <th id=\"T_c9657f9e_abad_11e9_92fe_6c4008b7bcd2level0_row0\" class=\"row_heading level0 row0\" >PassengerId</th>\n",
       "                        <td id=\"T_c9657f9e_abad_11e9_92fe_6c4008b7bcd2row0_col0\" class=\"data row0 col0\" >889</td>\n",
       "                        <td id=\"T_c9657f9e_abad_11e9_92fe_6c4008b7bcd2row0_col1\" class=\"data row0 col1\" >446</td>\n",
       "                        <td id=\"T_c9657f9e_abad_11e9_92fe_6c4008b7bcd2row0_col2\" class=\"data row0 col2\" >256.998</td>\n",
       "                        <td id=\"T_c9657f9e_abad_11e9_92fe_6c4008b7bcd2row0_col3\" class=\"data row0 col3\" >1</td>\n",
       "                        <td id=\"T_c9657f9e_abad_11e9_92fe_6c4008b7bcd2row0_col4\" class=\"data row0 col4\" >224</td>\n",
       "                        <td id=\"T_c9657f9e_abad_11e9_92fe_6c4008b7bcd2row0_col5\" class=\"data row0 col5\" >446</td>\n",
       "                        <td id=\"T_c9657f9e_abad_11e9_92fe_6c4008b7bcd2row0_col6\" class=\"data row0 col6\" >668</td>\n",
       "                        <td id=\"T_c9657f9e_abad_11e9_92fe_6c4008b7bcd2row0_col7\" class=\"data row0 col7\" >891</td>\n",
       "            </tr>\n",
       "            <tr>\n",
       "                        <th id=\"T_c9657f9e_abad_11e9_92fe_6c4008b7bcd2level0_row1\" class=\"row_heading level0 row1\" >Survived</th>\n",
       "                        <td id=\"T_c9657f9e_abad_11e9_92fe_6c4008b7bcd2row1_col0\" class=\"data row1 col0\" >889</td>\n",
       "                        <td id=\"T_c9657f9e_abad_11e9_92fe_6c4008b7bcd2row1_col1\" class=\"data row1 col1\" >0.382452</td>\n",
       "                        <td id=\"T_c9657f9e_abad_11e9_92fe_6c4008b7bcd2row1_col2\" class=\"data row1 col2\" >0.48626</td>\n",
       "                        <td id=\"T_c9657f9e_abad_11e9_92fe_6c4008b7bcd2row1_col3\" class=\"data row1 col3\" >0</td>\n",
       "                        <td id=\"T_c9657f9e_abad_11e9_92fe_6c4008b7bcd2row1_col4\" class=\"data row1 col4\" >0</td>\n",
       "                        <td id=\"T_c9657f9e_abad_11e9_92fe_6c4008b7bcd2row1_col5\" class=\"data row1 col5\" >0</td>\n",
       "                        <td id=\"T_c9657f9e_abad_11e9_92fe_6c4008b7bcd2row1_col6\" class=\"data row1 col6\" >1</td>\n",
       "                        <td id=\"T_c9657f9e_abad_11e9_92fe_6c4008b7bcd2row1_col7\" class=\"data row1 col7\" >1</td>\n",
       "            </tr>\n",
       "            <tr>\n",
       "                        <th id=\"T_c9657f9e_abad_11e9_92fe_6c4008b7bcd2level0_row2\" class=\"row_heading level0 row2\" >Pclass</th>\n",
       "                        <td id=\"T_c9657f9e_abad_11e9_92fe_6c4008b7bcd2row2_col0\" class=\"data row2 col0\" >889</td>\n",
       "                        <td id=\"T_c9657f9e_abad_11e9_92fe_6c4008b7bcd2row2_col1\" class=\"data row2 col1\" >2.31159</td>\n",
       "                        <td id=\"T_c9657f9e_abad_11e9_92fe_6c4008b7bcd2row2_col2\" class=\"data row2 col2\" >0.8347</td>\n",
       "                        <td id=\"T_c9657f9e_abad_11e9_92fe_6c4008b7bcd2row2_col3\" class=\"data row2 col3\" >1</td>\n",
       "                        <td id=\"T_c9657f9e_abad_11e9_92fe_6c4008b7bcd2row2_col4\" class=\"data row2 col4\" >2</td>\n",
       "                        <td id=\"T_c9657f9e_abad_11e9_92fe_6c4008b7bcd2row2_col5\" class=\"data row2 col5\" >3</td>\n",
       "                        <td id=\"T_c9657f9e_abad_11e9_92fe_6c4008b7bcd2row2_col6\" class=\"data row2 col6\" >3</td>\n",
       "                        <td id=\"T_c9657f9e_abad_11e9_92fe_6c4008b7bcd2row2_col7\" class=\"data row2 col7\" >3</td>\n",
       "            </tr>\n",
       "            <tr>\n",
       "                        <th id=\"T_c9657f9e_abad_11e9_92fe_6c4008b7bcd2level0_row3\" class=\"row_heading level0 row3\" >Age</th>\n",
       "                        <td id=\"T_c9657f9e_abad_11e9_92fe_6c4008b7bcd2row3_col0\" class=\"data row3 col0\" >712</td>\n",
       "                        <td id=\"T_c9657f9e_abad_11e9_92fe_6c4008b7bcd2row3_col1\" class=\"data row3 col1\" >29.6421</td>\n",
       "                        <td id=\"T_c9657f9e_abad_11e9_92fe_6c4008b7bcd2row3_col2\" class=\"data row3 col2\" >14.4929</td>\n",
       "                        <td id=\"T_c9657f9e_abad_11e9_92fe_6c4008b7bcd2row3_col3\" class=\"data row3 col3\" >0.42</td>\n",
       "                        <td id=\"T_c9657f9e_abad_11e9_92fe_6c4008b7bcd2row3_col4\" class=\"data row3 col4\" >20</td>\n",
       "                        <td id=\"T_c9657f9e_abad_11e9_92fe_6c4008b7bcd2row3_col5\" class=\"data row3 col5\" >28</td>\n",
       "                        <td id=\"T_c9657f9e_abad_11e9_92fe_6c4008b7bcd2row3_col6\" class=\"data row3 col6\" >38</td>\n",
       "                        <td id=\"T_c9657f9e_abad_11e9_92fe_6c4008b7bcd2row3_col7\" class=\"data row3 col7\" >80</td>\n",
       "            </tr>\n",
       "            <tr>\n",
       "                        <th id=\"T_c9657f9e_abad_11e9_92fe_6c4008b7bcd2level0_row4\" class=\"row_heading level0 row4\" >SibSp</th>\n",
       "                        <td id=\"T_c9657f9e_abad_11e9_92fe_6c4008b7bcd2row4_col0\" class=\"data row4 col0\" >889</td>\n",
       "                        <td id=\"T_c9657f9e_abad_11e9_92fe_6c4008b7bcd2row4_col1\" class=\"data row4 col1\" >0.524184</td>\n",
       "                        <td id=\"T_c9657f9e_abad_11e9_92fe_6c4008b7bcd2row4_col2\" class=\"data row4 col2\" >1.1037</td>\n",
       "                        <td id=\"T_c9657f9e_abad_11e9_92fe_6c4008b7bcd2row4_col3\" class=\"data row4 col3\" >0</td>\n",
       "                        <td id=\"T_c9657f9e_abad_11e9_92fe_6c4008b7bcd2row4_col4\" class=\"data row4 col4\" >0</td>\n",
       "                        <td id=\"T_c9657f9e_abad_11e9_92fe_6c4008b7bcd2row4_col5\" class=\"data row4 col5\" >0</td>\n",
       "                        <td id=\"T_c9657f9e_abad_11e9_92fe_6c4008b7bcd2row4_col6\" class=\"data row4 col6\" >1</td>\n",
       "                        <td id=\"T_c9657f9e_abad_11e9_92fe_6c4008b7bcd2row4_col7\" class=\"data row4 col7\" >8</td>\n",
       "            </tr>\n",
       "            <tr>\n",
       "                        <th id=\"T_c9657f9e_abad_11e9_92fe_6c4008b7bcd2level0_row5\" class=\"row_heading level0 row5\" >Parch</th>\n",
       "                        <td id=\"T_c9657f9e_abad_11e9_92fe_6c4008b7bcd2row5_col0\" class=\"data row5 col0\" >889</td>\n",
       "                        <td id=\"T_c9657f9e_abad_11e9_92fe_6c4008b7bcd2row5_col1\" class=\"data row5 col1\" >0.382452</td>\n",
       "                        <td id=\"T_c9657f9e_abad_11e9_92fe_6c4008b7bcd2row5_col2\" class=\"data row5 col2\" >0.806761</td>\n",
       "                        <td id=\"T_c9657f9e_abad_11e9_92fe_6c4008b7bcd2row5_col3\" class=\"data row5 col3\" >0</td>\n",
       "                        <td id=\"T_c9657f9e_abad_11e9_92fe_6c4008b7bcd2row5_col4\" class=\"data row5 col4\" >0</td>\n",
       "                        <td id=\"T_c9657f9e_abad_11e9_92fe_6c4008b7bcd2row5_col5\" class=\"data row5 col5\" >0</td>\n",
       "                        <td id=\"T_c9657f9e_abad_11e9_92fe_6c4008b7bcd2row5_col6\" class=\"data row5 col6\" >0</td>\n",
       "                        <td id=\"T_c9657f9e_abad_11e9_92fe_6c4008b7bcd2row5_col7\" class=\"data row5 col7\" >6</td>\n",
       "            </tr>\n",
       "            <tr>\n",
       "                        <th id=\"T_c9657f9e_abad_11e9_92fe_6c4008b7bcd2level0_row6\" class=\"row_heading level0 row6\" >Fare</th>\n",
       "                        <td id=\"T_c9657f9e_abad_11e9_92fe_6c4008b7bcd2row6_col0\" class=\"data row6 col0\" >889</td>\n",
       "                        <td id=\"T_c9657f9e_abad_11e9_92fe_6c4008b7bcd2row6_col1\" class=\"data row6 col1\" >32.0967</td>\n",
       "                        <td id=\"T_c9657f9e_abad_11e9_92fe_6c4008b7bcd2row6_col2\" class=\"data row6 col2\" >49.6975</td>\n",
       "                        <td id=\"T_c9657f9e_abad_11e9_92fe_6c4008b7bcd2row6_col3\" class=\"data row6 col3\" >0</td>\n",
       "                        <td id=\"T_c9657f9e_abad_11e9_92fe_6c4008b7bcd2row6_col4\" class=\"data row6 col4\" >7.8958</td>\n",
       "                        <td id=\"T_c9657f9e_abad_11e9_92fe_6c4008b7bcd2row6_col5\" class=\"data row6 col5\" >14.4542</td>\n",
       "                        <td id=\"T_c9657f9e_abad_11e9_92fe_6c4008b7bcd2row6_col6\" class=\"data row6 col6\" >31</td>\n",
       "                        <td id=\"T_c9657f9e_abad_11e9_92fe_6c4008b7bcd2row6_col7\" class=\"data row6 col7\" >512.329</td>\n",
       "            </tr>\n",
       "            <tr>\n",
       "                        <th id=\"T_c9657f9e_abad_11e9_92fe_6c4008b7bcd2level0_row7\" class=\"row_heading level0 row7\" >FamilyCount</th>\n",
       "                        <td id=\"T_c9657f9e_abad_11e9_92fe_6c4008b7bcd2row7_col0\" class=\"data row7 col0\" >889</td>\n",
       "                        <td id=\"T_c9657f9e_abad_11e9_92fe_6c4008b7bcd2row7_col1\" class=\"data row7 col1\" >0.906637</td>\n",
       "                        <td id=\"T_c9657f9e_abad_11e9_92fe_6c4008b7bcd2row7_col2\" class=\"data row7 col2\" >1.6147</td>\n",
       "                        <td id=\"T_c9657f9e_abad_11e9_92fe_6c4008b7bcd2row7_col3\" class=\"data row7 col3\" >0</td>\n",
       "                        <td id=\"T_c9657f9e_abad_11e9_92fe_6c4008b7bcd2row7_col4\" class=\"data row7 col4\" >0</td>\n",
       "                        <td id=\"T_c9657f9e_abad_11e9_92fe_6c4008b7bcd2row7_col5\" class=\"data row7 col5\" >0</td>\n",
       "                        <td id=\"T_c9657f9e_abad_11e9_92fe_6c4008b7bcd2row7_col6\" class=\"data row7 col6\" >1</td>\n",
       "                        <td id=\"T_c9657f9e_abad_11e9_92fe_6c4008b7bcd2row7_col7\" class=\"data row7 col7\" >10</td>\n",
       "            </tr>\n",
       "            <tr>\n",
       "                        <th id=\"T_c9657f9e_abad_11e9_92fe_6c4008b7bcd2level0_row8\" class=\"row_heading level0 row8\" >IsReverend</th>\n",
       "                        <td id=\"T_c9657f9e_abad_11e9_92fe_6c4008b7bcd2row8_col0\" class=\"data row8 col0\" >889</td>\n",
       "                        <td id=\"T_c9657f9e_abad_11e9_92fe_6c4008b7bcd2row8_col1\" class=\"data row8 col1\" >0.00674916</td>\n",
       "                        <td id=\"T_c9657f9e_abad_11e9_92fe_6c4008b7bcd2row8_col2\" class=\"data row8 col2\" >0.0819216</td>\n",
       "                        <td id=\"T_c9657f9e_abad_11e9_92fe_6c4008b7bcd2row8_col3\" class=\"data row8 col3\" >0</td>\n",
       "                        <td id=\"T_c9657f9e_abad_11e9_92fe_6c4008b7bcd2row8_col4\" class=\"data row8 col4\" >0</td>\n",
       "                        <td id=\"T_c9657f9e_abad_11e9_92fe_6c4008b7bcd2row8_col5\" class=\"data row8 col5\" >0</td>\n",
       "                        <td id=\"T_c9657f9e_abad_11e9_92fe_6c4008b7bcd2row8_col6\" class=\"data row8 col6\" >0</td>\n",
       "                        <td id=\"T_c9657f9e_abad_11e9_92fe_6c4008b7bcd2row8_col7\" class=\"data row8 col7\" >1</td>\n",
       "            </tr>\n",
       "            <tr>\n",
       "                        <th id=\"T_c9657f9e_abad_11e9_92fe_6c4008b7bcd2level0_row9\" class=\"row_heading level0 row9\" >Embarked_C</th>\n",
       "                        <td id=\"T_c9657f9e_abad_11e9_92fe_6c4008b7bcd2row9_col0\" class=\"data row9 col0\" >889</td>\n",
       "                        <td id=\"T_c9657f9e_abad_11e9_92fe_6c4008b7bcd2row9_col1\" class=\"data row9 col1\" >0.188976</td>\n",
       "                        <td id=\"T_c9657f9e_abad_11e9_92fe_6c4008b7bcd2row9_col2\" class=\"data row9 col2\" >0.39171</td>\n",
       "                        <td id=\"T_c9657f9e_abad_11e9_92fe_6c4008b7bcd2row9_col3\" class=\"data row9 col3\" >0</td>\n",
       "                        <td id=\"T_c9657f9e_abad_11e9_92fe_6c4008b7bcd2row9_col4\" class=\"data row9 col4\" >0</td>\n",
       "                        <td id=\"T_c9657f9e_abad_11e9_92fe_6c4008b7bcd2row9_col5\" class=\"data row9 col5\" >0</td>\n",
       "                        <td id=\"T_c9657f9e_abad_11e9_92fe_6c4008b7bcd2row9_col6\" class=\"data row9 col6\" >0</td>\n",
       "                        <td id=\"T_c9657f9e_abad_11e9_92fe_6c4008b7bcd2row9_col7\" class=\"data row9 col7\" >1</td>\n",
       "            </tr>\n",
       "            <tr>\n",
       "                        <th id=\"T_c9657f9e_abad_11e9_92fe_6c4008b7bcd2level0_row10\" class=\"row_heading level0 row10\" >Embarked_Q</th>\n",
       "                        <td id=\"T_c9657f9e_abad_11e9_92fe_6c4008b7bcd2row10_col0\" class=\"data row10 col0\" >889</td>\n",
       "                        <td id=\"T_c9657f9e_abad_11e9_92fe_6c4008b7bcd2row10_col1\" class=\"data row10 col1\" >0.0866142</td>\n",
       "                        <td id=\"T_c9657f9e_abad_11e9_92fe_6c4008b7bcd2row10_col2\" class=\"data row10 col2\" >0.281427</td>\n",
       "                        <td id=\"T_c9657f9e_abad_11e9_92fe_6c4008b7bcd2row10_col3\" class=\"data row10 col3\" >0</td>\n",
       "                        <td id=\"T_c9657f9e_abad_11e9_92fe_6c4008b7bcd2row10_col4\" class=\"data row10 col4\" >0</td>\n",
       "                        <td id=\"T_c9657f9e_abad_11e9_92fe_6c4008b7bcd2row10_col5\" class=\"data row10 col5\" >0</td>\n",
       "                        <td id=\"T_c9657f9e_abad_11e9_92fe_6c4008b7bcd2row10_col6\" class=\"data row10 col6\" >0</td>\n",
       "                        <td id=\"T_c9657f9e_abad_11e9_92fe_6c4008b7bcd2row10_col7\" class=\"data row10 col7\" >1</td>\n",
       "            </tr>\n",
       "            <tr>\n",
       "                        <th id=\"T_c9657f9e_abad_11e9_92fe_6c4008b7bcd2level0_row11\" class=\"row_heading level0 row11\" >Embarked_S</th>\n",
       "                        <td id=\"T_c9657f9e_abad_11e9_92fe_6c4008b7bcd2row11_col0\" class=\"data row11 col0\" >889</td>\n",
       "                        <td id=\"T_c9657f9e_abad_11e9_92fe_6c4008b7bcd2row11_col1\" class=\"data row11 col1\" >0.724409</td>\n",
       "                        <td id=\"T_c9657f9e_abad_11e9_92fe_6c4008b7bcd2row11_col2\" class=\"data row11 col2\" >0.447063</td>\n",
       "                        <td id=\"T_c9657f9e_abad_11e9_92fe_6c4008b7bcd2row11_col3\" class=\"data row11 col3\" >0</td>\n",
       "                        <td id=\"T_c9657f9e_abad_11e9_92fe_6c4008b7bcd2row11_col4\" class=\"data row11 col4\" >0</td>\n",
       "                        <td id=\"T_c9657f9e_abad_11e9_92fe_6c4008b7bcd2row11_col5\" class=\"data row11 col5\" >1</td>\n",
       "                        <td id=\"T_c9657f9e_abad_11e9_92fe_6c4008b7bcd2row11_col6\" class=\"data row11 col6\" >1</td>\n",
       "                        <td id=\"T_c9657f9e_abad_11e9_92fe_6c4008b7bcd2row11_col7\" class=\"data row11 col7\" >1</td>\n",
       "            </tr>\n",
       "            <tr>\n",
       "                        <th id=\"T_c9657f9e_abad_11e9_92fe_6c4008b7bcd2level0_row12\" class=\"row_heading level0 row12\" >Sex_female</th>\n",
       "                        <td id=\"T_c9657f9e_abad_11e9_92fe_6c4008b7bcd2row12_col0\" class=\"data row12 col0\" >889</td>\n",
       "                        <td id=\"T_c9657f9e_abad_11e9_92fe_6c4008b7bcd2row12_col1\" class=\"data row12 col1\" >0.350956</td>\n",
       "                        <td id=\"T_c9657f9e_abad_11e9_92fe_6c4008b7bcd2row12_col2\" class=\"data row12 col2\" >0.477538</td>\n",
       "                        <td id=\"T_c9657f9e_abad_11e9_92fe_6c4008b7bcd2row12_col3\" class=\"data row12 col3\" >0</td>\n",
       "                        <td id=\"T_c9657f9e_abad_11e9_92fe_6c4008b7bcd2row12_col4\" class=\"data row12 col4\" >0</td>\n",
       "                        <td id=\"T_c9657f9e_abad_11e9_92fe_6c4008b7bcd2row12_col5\" class=\"data row12 col5\" >0</td>\n",
       "                        <td id=\"T_c9657f9e_abad_11e9_92fe_6c4008b7bcd2row12_col6\" class=\"data row12 col6\" >1</td>\n",
       "                        <td id=\"T_c9657f9e_abad_11e9_92fe_6c4008b7bcd2row12_col7\" class=\"data row12 col7\" >1</td>\n",
       "            </tr>\n",
       "            <tr>\n",
       "                        <th id=\"T_c9657f9e_abad_11e9_92fe_6c4008b7bcd2level0_row13\" class=\"row_heading level0 row13\" >Sex_male</th>\n",
       "                        <td id=\"T_c9657f9e_abad_11e9_92fe_6c4008b7bcd2row13_col0\" class=\"data row13 col0\" >889</td>\n",
       "                        <td id=\"T_c9657f9e_abad_11e9_92fe_6c4008b7bcd2row13_col1\" class=\"data row13 col1\" >0.649044</td>\n",
       "                        <td id=\"T_c9657f9e_abad_11e9_92fe_6c4008b7bcd2row13_col2\" class=\"data row13 col2\" >0.477538</td>\n",
       "                        <td id=\"T_c9657f9e_abad_11e9_92fe_6c4008b7bcd2row13_col3\" class=\"data row13 col3\" >0</td>\n",
       "                        <td id=\"T_c9657f9e_abad_11e9_92fe_6c4008b7bcd2row13_col4\" class=\"data row13 col4\" >0</td>\n",
       "                        <td id=\"T_c9657f9e_abad_11e9_92fe_6c4008b7bcd2row13_col5\" class=\"data row13 col5\" >1</td>\n",
       "                        <td id=\"T_c9657f9e_abad_11e9_92fe_6c4008b7bcd2row13_col6\" class=\"data row13 col6\" >1</td>\n",
       "                        <td id=\"T_c9657f9e_abad_11e9_92fe_6c4008b7bcd2row13_col7\" class=\"data row13 col7\" >1</td>\n",
       "            </tr>\n",
       "    </tbody></table>"
      ],
      "text/plain": [
       "<pandas.io.formats.style.Styler at 0x1a1d69fba8>"
      ]
     },
     "execution_count": 649,
     "metadata": {},
     "output_type": "execute_result"
    }
   ],
   "source": [
    "titanic.describe().T.style"
   ]
  },
  {
   "cell_type": "code",
   "execution_count": 650,
   "metadata": {},
   "outputs": [
    {
     "data": {
      "text/html": [
       "<style  type=\"text/css\" >\n",
       "</style><table id=\"T_c9ae79d8_abad_11e9_92fe_6c4008b7bcd2\" ><thead>    <tr>        <th class=\"index_name level0\" >Pclass</th>        <th class=\"col_heading level0 col0\" >1</th>        <th class=\"col_heading level0 col1\" >2</th>        <th class=\"col_heading level0 col2\" >3</th>    </tr></thead><tbody>\n",
       "                <tr>\n",
       "                        <th id=\"T_c9ae79d8_abad_11e9_92fe_6c4008b7bcd2level0_row0\" class=\"row_heading level0 row0\" >Survived</th>\n",
       "                        <td id=\"T_c9ae79d8_abad_11e9_92fe_6c4008b7bcd2row0_col0\" class=\"data row0 col0\" >0.626168</td>\n",
       "                        <td id=\"T_c9ae79d8_abad_11e9_92fe_6c4008b7bcd2row0_col1\" class=\"data row0 col1\" >0.472826</td>\n",
       "                        <td id=\"T_c9ae79d8_abad_11e9_92fe_6c4008b7bcd2row0_col2\" class=\"data row0 col2\" >0.242363</td>\n",
       "            </tr>\n",
       "    </tbody></table>"
      ],
      "text/plain": [
       "<pandas.io.formats.style.Styler at 0x1a1d69fb70>"
      ]
     },
     "execution_count": 650,
     "metadata": {},
     "output_type": "execute_result"
    }
   ],
   "source": [
    "titanic.groupby('Pclass')[['Survived']].mean().T.style"
   ]
  },
  {
   "cell_type": "code",
   "execution_count": 651,
   "metadata": {},
   "outputs": [
    {
     "data": {
      "text/plain": [
       "PassengerId     -1.197156\n",
       "Survived        -1.769179\n",
       "Pclass          -1.269437\n",
       "Age              0.187949\n",
       "SibSp           17.838972\n",
       "Parch            9.750592\n",
       "Fare            33.508477\n",
       "FamilyCount      9.135664\n",
       "IsReverend     143.988765\n",
       "Embarked_C       0.534419\n",
       "Embarked_Q       6.684560\n",
       "Embarked_S      -0.989810\n",
       "Sex_female      -1.612225\n",
       "Sex_male        -1.612225\n",
       "dtype: float64"
      ]
     },
     "execution_count": 651,
     "metadata": {},
     "output_type": "execute_result"
    }
   ],
   "source": [
    "titanic.kurt()"
   ]
  },
  {
   "cell_type": "code",
   "execution_count": 652,
   "metadata": {},
   "outputs": [
    {
     "data": {
      "image/png": "[encoded data removed]",
      "text/plain": [
       "<Figure size 432x288 with 1 Axes>"
      ]
     },
     "metadata": {},
     "output_type": "display_data"
    }
   ],
   "source": [
    "titanic['Fare'].hist(bins =50, grid=False);"
   ]
  },
  {
   "cell_type": "code",
   "execution_count": 653,
   "metadata": {},
   "outputs": [
    {
     "data": {
      "image/png": "[encoded data removed]",
      "text/plain": [
       "<Figure size 432x288 with 1 Axes>"
      ]
     },
     "metadata": {},
     "output_type": "display_data"
    }
   ],
   "source": [
    "x = ['C','Q','S']\n",
    "y = [surv_embarkedC_rate,surv_embarkedQ_rate,surv_embarkedS_rate]\n",
    "\n",
    "sns.barplot(x,y)\n",
    "plt.title('Survival Rate per Embarkment ');"
   ]
  },
  {
   "cell_type": "code",
   "execution_count": 654,
   "metadata": {},
   "outputs": [
    {
     "data": {
      "text/plain": [
       "PassengerId    256.998173\n",
       "Survived         0.486260\n",
       "Pclass           0.834700\n",
       "Age             14.492933\n",
       "SibSp            1.103705\n",
       "Parch            0.806761\n",
       "Fare            49.697504\n",
       "FamilyCount      1.614703\n",
       "IsReverend       0.081922\n",
       "Embarked_C       0.391710\n",
       "Embarked_Q       0.281427\n",
       "Embarked_S       0.447063\n",
       "Sex_female       0.477538\n",
       "Sex_male         0.477538\n",
       "dtype: float64"
      ]
     },
     "execution_count": 654,
     "metadata": {},
     "output_type": "execute_result"
    }
   ],
   "source": [
    "titanic.std()"
   ]
  },
  {
   "cell_type": "code",
   "execution_count": 655,
   "metadata": {},
   "outputs": [
    {
     "data": {
      "image/png": "[encoded data removed]",
      "text/plain": [
       "<Figure size 432x288 with 1 Axes>"
      ]
     },
     "metadata": {},
     "output_type": "display_data"
    }
   ],
   "source": [
    "\n",
    "titanic.boxplot(column='FamilyCount');\n"
   ]
  },
  {
   "cell_type": "code",
   "execution_count": 656,
   "metadata": {},
   "outputs": [
    {
     "data": {
      "image/png": "[encoded data removed]",
      "text/plain": [
       "<Figure size 1440x864 with 1 Axes>"
      ]
     },
     "metadata": {},
     "output_type": "display_data"
    }
   ],
   "source": [
    "plt.rcParams['figure.figsize'] = (20, 12)\n",
    "plt.rcParams['font.size'] = 8\n",
    "titanic.boxplot(column='PassengerId',by='Pclass');\n"
   ]
  },
  {
   "cell_type": "code",
   "execution_count": null,
   "metadata": {},
   "outputs": [],
   "source": []
  }
 ],
 "metadata": {
  "kernelspec": {
   "display_name": "Python 3",
   "language": "python",
   "name": "python3"
  },
  "language_info": {
   "codemirror_mode": {
    "name": "ipython",
    "version": 3
   },
   "file_extension": ".py",
   "mimetype": "text/x-python",
   "name": "python",
   "nbconvert_exporter": "python",
   "pygments_lexer": "ipython3",
   "version": "3.7.3"
  }
 },
 "nbformat": 4,
 "nbformat_minor": 2
}
